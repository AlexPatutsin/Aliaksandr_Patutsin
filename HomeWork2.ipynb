{
 "cells": [
  {
   "cell_type": "markdown",
   "id": "0f05059b",
   "metadata": {},
   "source": [
    "Цель задания:\n",
    "- попрактиковаться в написании классов\n",
    "- получить опыт в создании генераторов данных. Это особенно полезно при обучении модели в отсутствии нужных данных и практике обучения модели на них.\n",
    "- попробовать создать свой собственный сгенерированный набор данных"
   ]
  },
  {
   "cell_type": "markdown",
   "id": "b8bc6c8b",
   "metadata": {},
   "source": [
    "Задача: Прокомментировать каждую строку, описав как можно короче, что в ней происходит."
   ]
  },
  {
   "cell_type": "code",
   "execution_count": 1,
   "id": "0d0706fe",
   "metadata": {},
   "outputs": [],
   "source": [
    "import random #импорт модуля random\n",
    "import pandas as pd #импорт библиотеки pandas \n",
    "\n",
    "class ClusterGenerator: # создание класса \n",
    "\n",
    "    def column(self, name, center, spread): #передача параметров  \n",
    "        return {'name': name, 'center': center, 'spread': spread} #возвращаем переданные параметры\n",
    "\n",
    "    def generate(self, n_rows, columns): #генерируем колонки данных\n",
    "        data = {} #создаем пустой словарь\n",
    "        for column in columns: #цикл для каждой column из набора колонок columns\n",
    "            data[column['name']] = [random.gauss(column['center'], column['spread']) for _ in range(n_rows)] #генерация данных с использования модуля random\n",
    "        return pd.DataFrame(data) #возвращаем готовый dataframe"
   ]
  },
  {
   "cell_type": "code",
   "execution_count": 2,
   "id": "b76fe52e",
   "metadata": {},
   "outputs": [
    {
     "name": "stdout",
     "output_type": "stream",
     "text": [
      "          age      height      weight\n",
      "0   29.554531  189.774969   88.955566\n",
      "1   34.760443  170.664416   73.185342\n",
      "2   32.699737  200.378854   75.825611\n",
      "3   37.538412  189.808057   96.518184\n",
      "4   32.981246  175.263405   54.412951\n",
      "..        ...         ...         ...\n",
      "95  32.034462  149.089782   66.559806\n",
      "96  41.558766  179.168696   91.489560\n",
      "97  33.156302  175.290524  100.964073\n",
      "98  29.391526  193.797919   75.747318\n",
      "99  33.153367  141.996983   59.439925\n",
      "\n",
      "[100 rows x 3 columns]\n"
     ]
    }
   ],
   "source": [
    "cg = ClusterGenerator() #создаем объект на основе класса ClusterGenerator \n",
    "male_df = cg.generate(100, [cg.column('age', center = 30, spread = 5), #создаем набор данных для мужчин средний возраст которых 30 лет\n",
    "                            cg.column('height', center = 175, spread = 20), #средний рост 175, средний вес 70 \n",
    "                            cg.column('weight', center = 70, spread = 15)])\n",
    "print(male_df) #отображаем полученные данные"
   ]
  },
  {
   "cell_type": "code",
   "execution_count": null,
   "id": "1a4960e3",
   "metadata": {},
   "outputs": [],
   "source": []
  }
 ],
 "metadata": {
  "kernelspec": {
   "display_name": "Python 3 (ipykernel)",
   "language": "python",
   "name": "python3"
  },
  "language_info": {
   "codemirror_mode": {
    "name": "ipython",
    "version": 3
   },
   "file_extension": ".py",
   "mimetype": "text/x-python",
   "name": "python",
   "nbconvert_exporter": "python",
   "pygments_lexer": "ipython3",
   "version": "3.11.5"
  }
 },
 "nbformat": 4,
 "nbformat_minor": 5
}
