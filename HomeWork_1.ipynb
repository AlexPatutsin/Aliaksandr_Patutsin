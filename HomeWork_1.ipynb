{
 "cells": [
  {
   "cell_type": "code",
   "execution_count": 1,
   "id": "29504d87",
   "metadata": {},
   "outputs": [
    {
     "name": "stdout",
     "output_type": "stream",
     "text": [
      "[10, 9, 8, 7, 6, 5, 4, 3, 2, 1]\n"
     ]
    }
   ],
   "source": [
    "list_1 = [1, 2, 3, 4, 5, 6, 7, 8, 9, 10]\n",
    "for i in range(len(list_1)-1, -1, -1):\n",
    "    list_1.append(list_1[i])\n",
    "    del list_1[i]\n",
    "print(list_1)"
   ]
  },
  {
   "cell_type": "code",
   "execution_count": 3,
   "id": "791fd74f",
   "metadata": {},
   "outputs": [
    {
     "name": "stdout",
     "output_type": "stream",
     "text": [
      "10 четное\n",
      "9 нечетное\n",
      "8 четное\n",
      "7 нечетное\n",
      "6 четное\n",
      "5 нечетное\n",
      "4 четное\n",
      "3 нечетное\n",
      "2 четное\n",
      "1 нечетное\n"
     ]
    }
   ],
   "source": [
    "i = 0\n",
    "while i < len(list_1):\n",
    "    if list_1[i] % 2 == 0:\n",
    "        print(list_1[i], 'четное')\n",
    "    else:\n",
    "        print(list_1[i], 'нечетное')\n",
    "    i += 1"
   ]
  },
  {
   "cell_type": "code",
   "execution_count": null,
   "id": "2bf06a61",
   "metadata": {},
   "outputs": [],
   "source": []
  }
 ],
 "metadata": {
  "kernelspec": {
   "display_name": "Python 3 (ipykernel)",
   "language": "python",
   "name": "python3"
  },
  "language_info": {
   "codemirror_mode": {
    "name": "ipython",
    "version": 3
   },
   "file_extension": ".py",
   "mimetype": "text/x-python",
   "name": "python",
   "nbconvert_exporter": "python",
   "pygments_lexer": "ipython3",
   "version": "3.11.5"
  }
 },
 "nbformat": 4,
 "nbformat_minor": 5
}
