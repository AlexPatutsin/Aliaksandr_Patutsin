{
 "cells": [
  {
   "cell_type": "code",
   "execution_count": 1,
   "id": "9bb3795f",
   "metadata": {},
   "outputs": [
    {
     "name": "stdout",
     "output_type": "stream",
     "text": [
      "(1, 'John', 'Sigal', 'sigal_j@example.com', 30, 2400.0, '2024-03-05 12:44:12')\n",
      "(2, 'Juliya', 'Roberts', 'robers_j@example.com', 25, 1800.0, '2024-03-05 12:44:12')\n",
      "(3, 'Alice', 'White', 'white_a@example.com', 28, 3200.0, '2024-03-05 12:44:12')\n",
      "(4, 'Bob', 'Dilan', 'dilan_b@example.com', 35, 4100.0, '2024-03-05 12:44:12')\n"
     ]
    }
   ],
   "source": [
    "import sqlite3\n",
    "\n",
    "conn = sqlite3.connect('staff.db')\n",
    "cursor = conn.cursor()\n",
    "\n",
    "\n",
    "cursor.execute('''CREATE TABLE IF NOT EXISTS employee (\n",
    "    id INTEGER PRIMARY KEY AUTOINCREMENT,\n",
    "    first_name TEXT UNIQUE NOT NULL,\n",
    "    last_name TEXT UNIQUE NOT NULL,\n",
    "    email TEXT UNIQUE NOT NULL,\n",
    "    age INTEGER,\n",
    "    wages FLOAT,\n",
    "    created_at TIMESTAMP DEFAULT CURRENT_TIMESTAMP\n",
    ")''')\n",
    "\n",
    "\n",
    "users_data = [\n",
    "    ('John','Sigal', 'sigal_j@example.com', 30, 2400.00),\n",
    "    ('Juliya', 'Roberts', 'robers_j@example.com', 25, 1800.00),\n",
    "    ('Alice', 'White', 'white_a@example.com', 28, 3200.00),\n",
    "    ('Bob','Dilan', 'dilan_b@example.com', 35, 4100.00),\n",
    "]\n",
    "\n",
    "cursor.executemany(\"INSERT INTO employee (first_name, last_name, email, age, wages) VALUES (?, ?, ?, ?, ?)\", users_data)\n",
    "\n",
    "# Запрос данных\n",
    "cursor.execute(\"SELECT * FROM employee\")\n",
    "users = cursor.fetchall()\n",
    "for user in users:\n",
    "    print(user)\n",
    "    \n",
    "    \n",
    "conn.commit()\n",
    "conn.close()"
   ]
  },
  {
   "cell_type": "code",
   "execution_count": 3,
   "id": "e86c4d83",
   "metadata": {},
   "outputs": [
    {
     "name": "stdout",
     "output_type": "stream",
     "text": [
      "(1, 'John', 'Sigal', 'sigal_j@example.com', 30, 2400.0, '2024-03-05 12:44:12')\n",
      "(2, 'Juliya', 'Roberts', 'robers_j@example.com', 25, 1800.0, '2024-03-05 12:44:12')\n",
      "(3, 'Alice', 'White', 'white_a@example.com', 28, 3200.0, '2024-03-05 12:44:12')\n",
      "(4, 'Bob', 'Dilan', 'dilan_b@example.com', 35, 4100.0, '2024-03-05 12:44:12')\n"
     ]
    }
   ],
   "source": [
    "conn = sqlite3.connect('staff.db')\n",
    "cursor = conn.cursor()\n",
    "\n",
    "cursor.execute(\"SELECT * FROM employee\")\n",
    "users = cursor.fetchall()\n",
    "for user in users:\n",
    "    print(user)\n",
    "    \n",
    "conn.commit()\n",
    "conn.close()"
   ]
  },
  {
   "cell_type": "code",
   "execution_count": null,
   "id": "b4427cb5",
   "metadata": {},
   "outputs": [],
   "source": []
  }
 ],
 "metadata": {
  "kernelspec": {
   "display_name": "Python 3 (ipykernel)",
   "language": "python",
   "name": "python3"
  },
  "language_info": {
   "codemirror_mode": {
    "name": "ipython",
    "version": 3
   },
   "file_extension": ".py",
   "mimetype": "text/x-python",
   "name": "python",
   "nbconvert_exporter": "python",
   "pygments_lexer": "ipython3",
   "version": "3.11.5"
  }
 },
 "nbformat": 4,
 "nbformat_minor": 5
}
